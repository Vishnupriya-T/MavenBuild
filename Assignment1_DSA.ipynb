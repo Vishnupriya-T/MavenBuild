{
  "nbformat": 4,
  "nbformat_minor": 0,
  "metadata": {
    "colab": {
      "name": "Assignment1_DSA.ipynb",
      "provenance": [],
      "collapsed_sections": [],
      "include_colab_link": true
    },
    "kernelspec": {
      "name": "python3",
      "display_name": "Python 3"
    },
    "language_info": {
      "name": "python"
    }
  },
  "cells": [
    {
      "cell_type": "markdown",
      "metadata": {
        "id": "view-in-github",
        "colab_type": "text"
      },
      "source": [
        "<a href=\"https://colab.research.google.com/github/Vishnupriya1032/MavenBuild/blob/master/Assignment1_DSA.ipynb\" target=\"_parent\"><img src=\"https://colab.research.google.com/assets/colab-badge.svg\" alt=\"Open In Colab\"/></a>"
      ]
    },
    {
      "cell_type": "code",
      "execution_count": null,
      "metadata": {
        "colab": {
          "base_uri": "https://localhost:8080/"
        },
        "id": "2IVYKDHpyxOz",
        "outputId": "31122628-d8fc-45e5-a1df-64c2ca50302d"
      },
      "outputs": [
        {
          "name": "stdout",
          "output_type": "stream",
          "text": [
            "Hey, Your good name?Vishnupriya\n"
          ]
        }
      ],
      "source": [
        "Name=input(\"Hey, Your good name?\")"
      ]
    },
    {
      "cell_type": "code",
      "source": [
        "print(Name)"
      ],
      "metadata": {
        "colab": {
          "base_uri": "https://localhost:8080/"
        },
        "id": "2utn3l2u2Z5q",
        "outputId": "49c3f8d4-842a-41e2-c6b2-016e56dd81a7"
      },
      "execution_count": null,
      "outputs": [
        {
          "output_type": "stream",
          "name": "stdout",
          "text": [
            "Vishnupriya\n"
          ]
        }
      ]
    },
    {
      "cell_type": "code",
      "source": [
        "Number=int(input(\"Enter a number: \"))\n",
        "print(\"Entered number is:\", Number)"
      ],
      "metadata": {
        "colab": {
          "base_uri": "https://localhost:8080/"
        },
        "id": "WInwzvis2jLH",
        "outputId": "c4b2191e-db8b-4cd5-891a-a4d6cfc026b1"
      },
      "execution_count": null,
      "outputs": [
        {
          "output_type": "stream",
          "name": "stdout",
          "text": [
            "Enter a number: 22\n",
            "Entered number is: 22\n"
          ]
        }
      ]
    },
    {
      "cell_type": "code",
      "source": [
        "Name=input(\"Enter your name: \")\n",
        "Number=int(input(\"Enter a number: \"))\n",
        "while(Number>0):\n",
        "  print(Name)\n",
        "  Number=Number-1"
      ],
      "metadata": {
        "colab": {
          "base_uri": "https://localhost:8080/"
        },
        "id": "xINBr7da4iOk",
        "outputId": "d8f98cce-6dab-41e2-95ee-b58c7a443e40"
      },
      "execution_count": null,
      "outputs": [
        {
          "output_type": "stream",
          "name": "stdout",
          "text": [
            "Enter your name: Vishnupriya\n",
            "Enter a number: 2\n",
            "Vishnupriya\n",
            "Vishnupriya\n"
          ]
        }
      ]
    }
  ]
}